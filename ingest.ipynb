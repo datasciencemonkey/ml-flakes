{
 "cells": [
  {
   "cell_type": "markdown",
   "id": "7c8858b0",
   "metadata": {},
   "source": [
    "#### Start with installing the required library"
   ]
  },
  {
   "cell_type": "code",
   "execution_count": 3,
   "id": "328c728b",
   "metadata": {},
   "outputs": [
    {
     "name": "stdout",
     "output_type": "stream",
     "text": [
      "Collecting snowflake-connector-python[pandas]\n",
      "  Using cached snowflake_connector_python-2.4.3-cp36-cp36m-manylinux2014_x86_64.whl (13.2 MB)\n",
      "Collecting azure-common<2.0.0\n",
      "  Using cached azure_common-1.1.27-py2.py3-none-any.whl (12 kB)\n",
      "Requirement already satisfied: requests<3.0.0 in /home/ec2-user/anaconda3/envs/pytorch_latest_p36/lib/python3.6/site-packages (from snowflake-connector-python[pandas]) (2.25.1)\n",
      "Requirement already satisfied: idna<3,>=2.5 in /home/ec2-user/anaconda3/envs/pytorch_latest_p36/lib/python3.6/site-packages (from snowflake-connector-python[pandas]) (2.10)\n",
      "Requirement already satisfied: boto3<2.0.0,>=1.4.4 in /home/ec2-user/anaconda3/envs/pytorch_latest_p36/lib/python3.6/site-packages (from snowflake-connector-python[pandas]) (1.17.70)\n",
      "Requirement already satisfied: certifi<2021.0.0 in /home/ec2-user/anaconda3/envs/pytorch_latest_p36/lib/python3.6/site-packages (from snowflake-connector-python[pandas]) (2020.12.5)\n",
      "Requirement already satisfied: asn1crypto<2.0.0,>0.24.0 in /home/ec2-user/anaconda3/envs/pytorch_latest_p36/lib/python3.6/site-packages (from snowflake-connector-python[pandas]) (1.4.0)\n",
      "Collecting oscrypto<2.0.0\n",
      "  Using cached oscrypto-1.2.1-py2.py3-none-any.whl (192 kB)\n",
      "Requirement already satisfied: setuptools>34.0.0 in /home/ec2-user/anaconda3/envs/pytorch_latest_p36/lib/python3.6/site-packages (from snowflake-connector-python[pandas]) (49.6.0.post20210108)\n",
      "Collecting pyjwt<3.0.0\n",
      "  Using cached PyJWT-2.1.0-py3-none-any.whl (16 kB)\n",
      "Requirement already satisfied: pytz in /home/ec2-user/anaconda3/envs/pytorch_latest_p36/lib/python3.6/site-packages (from snowflake-connector-python[pandas]) (2021.1)\n",
      "Collecting pycryptodomex!=3.5.0,<4.0.0,>=3.2\n",
      "  Using cached pycryptodomex-3.10.1-cp35-abi3-manylinux2010_x86_64.whl (1.9 MB)\n",
      "Requirement already satisfied: pyOpenSSL<21.0.0,>=16.2.0 in /home/ec2-user/anaconda3/envs/pytorch_latest_p36/lib/python3.6/site-packages (from snowflake-connector-python[pandas]) (20.0.1)\n",
      "Requirement already satisfied: cryptography<4.0.0,>=2.5.0 in /home/ec2-user/anaconda3/envs/pytorch_latest_p36/lib/python3.6/site-packages (from snowflake-connector-python[pandas]) (3.4.4)\n",
      "Requirement already satisfied: dataclasses<1.0 in /home/ec2-user/anaconda3/envs/pytorch_latest_p36/lib/python3.6/site-packages (from snowflake-connector-python[pandas]) (0.8)\n",
      "Requirement already satisfied: chardet<4,>=3.0.2 in /home/ec2-user/anaconda3/envs/pytorch_latest_p36/lib/python3.6/site-packages (from snowflake-connector-python[pandas]) (3.0.4)\n",
      "Collecting azure-storage-blob<13.0.0,>=12.0.0\n",
      "  Using cached azure_storage_blob-12.8.1-py2.py3-none-any.whl (345 kB)\n",
      "Requirement already satisfied: cffi<2.0.0,>=1.9 in /home/ec2-user/anaconda3/envs/pytorch_latest_p36/lib/python3.6/site-packages (from snowflake-connector-python[pandas]) (1.14.5)\n",
      "Collecting pyarrow<3.1.0,>=3.0.0\n",
      "  Using cached pyarrow-3.0.0-cp36-cp36m-manylinux2014_x86_64.whl (20.7 MB)\n",
      "Requirement already satisfied: pandas<1.3.0,>=1.0.0 in /home/ec2-user/anaconda3/envs/pytorch_latest_p36/lib/python3.6/site-packages (from snowflake-connector-python[pandas]) (1.1.5)\n",
      "Collecting azure-core<2.0.0,>=1.10.0\n",
      "  Using cached azure_core-1.14.0-py2.py3-none-any.whl (136 kB)\n",
      "Collecting msrest>=0.6.18\n",
      "  Using cached msrest-0.6.21-py2.py3-none-any.whl (85 kB)\n",
      "Requirement already satisfied: six>=1.11.0 in /home/ec2-user/anaconda3/envs/pytorch_latest_p36/lib/python3.6/site-packages (from azure-core<2.0.0,>=1.10.0->azure-storage-blob<13.0.0,>=12.0.0->snowflake-connector-python[pandas]) (1.15.0)\n",
      "Requirement already satisfied: jmespath<1.0.0,>=0.7.1 in /home/ec2-user/anaconda3/envs/pytorch_latest_p36/lib/python3.6/site-packages (from boto3<2.0.0,>=1.4.4->snowflake-connector-python[pandas]) (0.10.0)\n",
      "Requirement already satisfied: s3transfer<0.5.0,>=0.4.0 in /home/ec2-user/anaconda3/envs/pytorch_latest_p36/lib/python3.6/site-packages (from boto3<2.0.0,>=1.4.4->snowflake-connector-python[pandas]) (0.4.2)\n",
      "Requirement already satisfied: botocore<1.21.0,>=1.20.70 in /home/ec2-user/anaconda3/envs/pytorch_latest_p36/lib/python3.6/site-packages (from boto3<2.0.0,>=1.4.4->snowflake-connector-python[pandas]) (1.20.70)\n",
      "Requirement already satisfied: python-dateutil<3.0.0,>=2.1 in /home/ec2-user/anaconda3/envs/pytorch_latest_p36/lib/python3.6/site-packages (from botocore<1.21.0,>=1.20.70->boto3<2.0.0,>=1.4.4->snowflake-connector-python[pandas]) (2.8.1)\n",
      "Requirement already satisfied: urllib3<1.27,>=1.25.4 in /home/ec2-user/anaconda3/envs/pytorch_latest_p36/lib/python3.6/site-packages (from botocore<1.21.0,>=1.20.70->boto3<2.0.0,>=1.4.4->snowflake-connector-python[pandas]) (1.26.4)\n",
      "Requirement already satisfied: pycparser in /home/ec2-user/anaconda3/envs/pytorch_latest_p36/lib/python3.6/site-packages (from cffi<2.0.0,>=1.9->snowflake-connector-python[pandas]) (2.20)\n",
      "Collecting requests-oauthlib>=0.5.0\n",
      "  Using cached requests_oauthlib-1.3.0-py2.py3-none-any.whl (23 kB)\n",
      "Collecting isodate>=0.6.0\n",
      "  Using cached isodate-0.6.0-py2.py3-none-any.whl (45 kB)\n",
      "Requirement already satisfied: numpy>=1.15.4 in /home/ec2-user/anaconda3/envs/pytorch_latest_p36/lib/python3.6/site-packages (from pandas<1.3.0,>=1.0.0->snowflake-connector-python[pandas]) (1.19.2)\n",
      "Collecting oauthlib>=3.0.0\n",
      "  Using cached oauthlib-3.1.0-py2.py3-none-any.whl (147 kB)\n",
      "Installing collected packages: oauthlib, requests-oauthlib, isodate, msrest, azure-core, pyjwt, pycryptodomex, oscrypto, azure-storage-blob, azure-common, snowflake-connector-python, pyarrow\n",
      "  Attempting uninstall: pyarrow\n",
      "    Found existing installation: pyarrow 4.0.0\n",
      "    Uninstalling pyarrow-4.0.0:\n",
      "      Successfully uninstalled pyarrow-4.0.0\n",
      "Successfully installed azure-common-1.1.27 azure-core-1.14.0 azure-storage-blob-12.8.1 isodate-0.6.0 msrest-0.6.21 oauthlib-3.1.0 oscrypto-1.2.1 pyarrow-3.0.0 pycryptodomex-3.10.1 pyjwt-2.1.0 requests-oauthlib-1.3.0 snowflake-connector-python-2.4.3\n"
     ]
    }
   ],
   "source": [
    "!pip install snowflake-connector-python[pandas]"
   ]
  },
  {
   "cell_type": "markdown",
   "id": "0982af33",
   "metadata": {},
   "source": [
    "### Import the required Packages"
   ]
  },
  {
   "cell_type": "code",
   "execution_count": 4,
   "id": "cd079b9c",
   "metadata": {},
   "outputs": [],
   "source": [
    "import pandas as pd\n",
    "from snowflake.connector import pandas_tools as sfpd\n",
    "import snowflake.connector\n",
    "import toml"
   ]
  },
  {
   "cell_type": "code",
   "execution_count": 5,
   "id": "7dc3c263",
   "metadata": {},
   "outputs": [],
   "source": [
    "df = pd.read_csv(\"https://archive.ics.uci.edu/ml/machine-learning-databases/abalone/abalone.data\",\n",
    "                names = ['sex', 'length', 'diameter','height','whole_weight','shucked_weight',\n",
    "                           'viscera_weight','shell_weight','rings'])"
   ]
  },
  {
   "cell_type": "code",
   "execution_count": 24,
   "id": "3a84c8b4",
   "metadata": {},
   "outputs": [
    {
     "data": {
      "text/html": [
       "<div>\n",
       "<style scoped>\n",
       "    .dataframe tbody tr th:only-of-type {\n",
       "        vertical-align: middle;\n",
       "    }\n",
       "\n",
       "    .dataframe tbody tr th {\n",
       "        vertical-align: top;\n",
       "    }\n",
       "\n",
       "    .dataframe thead th {\n",
       "        text-align: right;\n",
       "    }\n",
       "</style>\n",
       "<table border=\"1\" class=\"dataframe\">\n",
       "  <thead>\n",
       "    <tr style=\"text-align: right;\">\n",
       "      <th></th>\n",
       "      <th>SEX</th>\n",
       "      <th>LENGTH</th>\n",
       "      <th>DIAMETER</th>\n",
       "      <th>HEIGHT</th>\n",
       "      <th>WHOLE_WEIGHT</th>\n",
       "      <th>SHUCKED_WEIGHT</th>\n",
       "      <th>VISCERA_WEIGHT</th>\n",
       "      <th>SHELL_WEIGHT</th>\n",
       "      <th>RINGS</th>\n",
       "    </tr>\n",
       "  </thead>\n",
       "  <tbody>\n",
       "    <tr>\n",
       "      <th>0</th>\n",
       "      <td>M</td>\n",
       "      <td>0.455</td>\n",
       "      <td>0.365</td>\n",
       "      <td>0.095</td>\n",
       "      <td>0.5140</td>\n",
       "      <td>0.2245</td>\n",
       "      <td>0.1010</td>\n",
       "      <td>0.150</td>\n",
       "      <td>15</td>\n",
       "    </tr>\n",
       "    <tr>\n",
       "      <th>1</th>\n",
       "      <td>M</td>\n",
       "      <td>0.350</td>\n",
       "      <td>0.265</td>\n",
       "      <td>0.090</td>\n",
       "      <td>0.2255</td>\n",
       "      <td>0.0995</td>\n",
       "      <td>0.0485</td>\n",
       "      <td>0.070</td>\n",
       "      <td>7</td>\n",
       "    </tr>\n",
       "    <tr>\n",
       "      <th>2</th>\n",
       "      <td>F</td>\n",
       "      <td>0.530</td>\n",
       "      <td>0.420</td>\n",
       "      <td>0.135</td>\n",
       "      <td>0.6770</td>\n",
       "      <td>0.2565</td>\n",
       "      <td>0.1415</td>\n",
       "      <td>0.210</td>\n",
       "      <td>9</td>\n",
       "    </tr>\n",
       "    <tr>\n",
       "      <th>3</th>\n",
       "      <td>M</td>\n",
       "      <td>0.440</td>\n",
       "      <td>0.365</td>\n",
       "      <td>0.125</td>\n",
       "      <td>0.5160</td>\n",
       "      <td>0.2155</td>\n",
       "      <td>0.1140</td>\n",
       "      <td>0.155</td>\n",
       "      <td>10</td>\n",
       "    </tr>\n",
       "    <tr>\n",
       "      <th>4</th>\n",
       "      <td>I</td>\n",
       "      <td>0.330</td>\n",
       "      <td>0.255</td>\n",
       "      <td>0.080</td>\n",
       "      <td>0.2050</td>\n",
       "      <td>0.0895</td>\n",
       "      <td>0.0395</td>\n",
       "      <td>0.055</td>\n",
       "      <td>7</td>\n",
       "    </tr>\n",
       "  </tbody>\n",
       "</table>\n",
       "</div>"
      ],
      "text/plain": [
       "  SEX  LENGTH  DIAMETER  HEIGHT  WHOLE_WEIGHT  SHUCKED_WEIGHT  VISCERA_WEIGHT  \\\n",
       "0   M   0.455     0.365   0.095        0.5140          0.2245          0.1010   \n",
       "1   M   0.350     0.265   0.090        0.2255          0.0995          0.0485   \n",
       "2   F   0.530     0.420   0.135        0.6770          0.2565          0.1415   \n",
       "3   M   0.440     0.365   0.125        0.5160          0.2155          0.1140   \n",
       "4   I   0.330     0.255   0.080        0.2050          0.0895          0.0395   \n",
       "\n",
       "   SHELL_WEIGHT  RINGS  \n",
       "0         0.150     15  \n",
       "1         0.070      7  \n",
       "2         0.210      9  \n",
       "3         0.155     10  \n",
       "4         0.055      7  "
      ]
     },
     "execution_count": 24,
     "metadata": {},
     "output_type": "execute_result"
    }
   ],
   "source": [
    "df.head()"
   ]
  },
  {
   "cell_type": "markdown",
   "id": "218fe95e",
   "metadata": {},
   "source": [
    "#### Connect to Snowflake "
   ]
  },
  {
   "cell_type": "code",
   "execution_count": 25,
   "id": "babe297d",
   "metadata": {},
   "outputs": [],
   "source": [
    "env = toml.load('config.toml')\n",
    "conn = snowflake.connector.connect(\n",
    "                user= env['trial'].get('user'),\n",
    "                password= env['trial'].get('password'),\n",
    "                account= env['trial'].get('account'),\n",
    "                warehouse=env['trial'].get('warehouse'),\n",
    "                database=env['trial'].get('database'),\n",
    "                schema=env['trial'].get('schema')\n",
    "                )"
   ]
  },
  {
   "cell_type": "markdown",
   "id": "4f5e3d81",
   "metadata": {},
   "source": [
    "#### Create the Table into which we'll load the data"
   ]
  },
  {
   "cell_type": "code",
   "execution_count": 26,
   "id": "bc88d367",
   "metadata": {},
   "outputs": [],
   "source": [
    "tbl = \"ABALONE_TEST\"\n",
    "cur = conn.cursor()\n",
    "cur.execute(f'drop table if exists \"SGDB\".\"PUBLIC\".{tbl};')\n",
    "cur.execute(f'''CREATE TABLE \"SGDB\".\"PUBLIC\".{tbl} (\"SEX\" STRING, \"LENGTH\" NUMBER (5, 4), \n",
    "            \"DIAMETER\" NUMBER (5, 4), \"HEIGHT\" NUMBER (5, 4), \"WHOLE_WEIGHT\" NUMBER (5, 4), \n",
    "            \"SHUCKED_WEIGHT\" NUMBER (5, 4), \"VISCERA_WEIGHT\" NUMBER (5, 4), \"SHELL_WEIGHT\" NUMBER (5, 4),\n",
    "            \"RINGS\" INTEGER);''');"
   ]
  },
  {
   "cell_type": "code",
   "execution_count": 27,
   "id": "45507267",
   "metadata": {},
   "outputs": [],
   "source": [
    "df.columns = [i.upper() for i in df.columns] #update to help with import into snowflake"
   ]
  },
  {
   "cell_type": "markdown",
   "id": "946c2dbe",
   "metadata": {},
   "source": [
    "Load the Data and Check if the process succeeded"
   ]
  },
  {
   "cell_type": "code",
   "execution_count": 28,
   "id": "a518975a",
   "metadata": {},
   "outputs": [
    {
     "name": "stdout",
     "output_type": "stream",
     "text": [
      "INFO: Write Pandas method reported Success = True, with a total number of 4177 rows written to the table\n"
     ]
    }
   ],
   "source": [
    "success, nchunks, nrows, _ = sfpd.write_pandas(conn, df,tbl) # write to snowflake\n",
    "\n",
    "print(f\"INFO: Write Pandas method reported Success = {success}, with a total number of {nrows} rows written to the table\")"
   ]
  },
  {
   "cell_type": "code",
   "execution_count": 29,
   "id": "22a72d76",
   "metadata": {},
   "outputs": [],
   "source": [
    "cur.close()\n",
    "conn.close()"
   ]
  }
 ],
 "metadata": {
  "kernelspec": {
   "display_name": "conda_pytorch_latest_p36",
   "language": "python",
   "name": "conda_pytorch_latest_p36"
  },
  "language_info": {
   "codemirror_mode": {
    "name": "ipython",
    "version": 3
   },
   "file_extension": ".py",
   "mimetype": "text/x-python",
   "name": "python",
   "nbconvert_exporter": "python",
   "pygments_lexer": "ipython3",
   "version": "3.6.13"
  }
 },
 "nbformat": 4,
 "nbformat_minor": 5
}
